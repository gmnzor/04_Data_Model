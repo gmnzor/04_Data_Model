{
 "cells": [
  {
   "cell_type": "code",
   "execution_count": 1,
   "id": "2e6132ac-3193-4c7a-855d-92d9e23bfb7e",
   "metadata": {},
   "outputs": [
    {
     "name": "stdout",
     "output_type": "stream",
     "text": [
      "       Series ID  Year Period     Label  Value\n",
      "0  CEU5051800001  2018    M01  2018 Jan  322.5\n",
      "1  CEU5051800001  2018    M02  2018 Feb  327.6\n",
      "2  CEU5051800001  2018    M03  2018 Mar  329.1\n",
      "3  CEU5051800001  2018    M04  2018 Apr  330.1\n",
      "4  CEU5051800001  2018    M05  2018 May  332.2\n"
     ]
    }
   ],
   "source": [
    "import pandas as pd\n",
    "\n",
    "# Load the CSV file into a DataFrame\n",
    "df = pd.read_csv('Resources/BLS_Tech_Wages.csv')\n",
    "\n",
    "# Check the first few rows of the data to understand its structure\n",
    "print(df.head())"
   ]
  },
  {
   "cell_type": "code",
   "execution_count": 2,
   "id": "716dcfaa-4069-4bf8-be2c-68fb7f2fefd1",
   "metadata": {},
   "outputs": [
    {
     "name": "stdout",
     "output_type": "stream",
     "text": [
      "                Series ID  Value Month\n",
      "Date                                  \n",
      "2018-01-01  CEU5051800001  322.5    01\n",
      "2018-02-01  CEU5051800001  327.6    02\n",
      "2018-03-01  CEU5051800001  329.1    03\n",
      "2018-04-01  CEU5051800001  330.1    04\n",
      "2018-05-01  CEU5051800001  332.2    05\n"
     ]
    }
   ],
   "source": [
    "# Convert 'Year' and 'Period' into a proper datetime format\n",
    "df['Month'] = df['Period'].apply(lambda x: x[1:])  # Extract the month part from 'Period'\n",
    "df['Date'] = pd.to_datetime(df[['Year', 'Month']].assign(DAY=1))  # Create a 'Date' column\n",
    "\n",
    "# Drop the now redundant 'Year', 'Period', and 'Label' columns\n",
    "df = df.drop(columns=['Year', 'Period', 'Label'])\n",
    "\n",
    "# Set 'Date' as the index (optional for time series analysis)\n",
    "df.set_index('Date', inplace=True)\n",
    "\n",
    "# Check the first few rows to verify changes\n",
    "print(df.head())\n"
   ]
  },
  {
   "cell_type": "code",
   "execution_count": 3,
   "id": "bbef61d5-617c-43a6-8305-4ac398474718",
   "metadata": {},
   "outputs": [
    {
     "name": "stdout",
     "output_type": "stream",
     "text": [
      "                Series ID  Value\n",
      "Date                            \n",
      "2018-01-01  CEU5051800001  322.5\n",
      "2018-02-01  CEU5051800001  327.6\n",
      "2018-03-01  CEU5051800001  329.1\n",
      "2018-04-01  CEU5051800001  330.1\n",
      "2018-05-01  CEU5051800001  332.2\n"
     ]
    }
   ],
   "source": [
    "# Drop the 'Month' column, since 'Date' already contains both year and month\n",
    "df = df.drop(columns=['Month'])\n",
    "\n",
    "# Check the first few rows to verify the final structure\n",
    "print(df.head())\n"
   ]
  },
  {
   "cell_type": "code",
   "execution_count": null,
   "id": "8aa0ead0-bc8f-42e6-9562-98eed95a14c9",
   "metadata": {},
   "outputs": [],
   "source": []
  }
 ],
 "metadata": {
  "kernelspec": {
   "display_name": "Python 3 (ipykernel)",
   "language": "python",
   "name": "python3"
  },
  "language_info": {
   "codemirror_mode": {
    "name": "ipython",
    "version": 3
   },
   "file_extension": ".py",
   "mimetype": "text/x-python",
   "name": "python",
   "nbconvert_exporter": "python",
   "pygments_lexer": "ipython3",
   "version": "3.11.7"
  }
 },
 "nbformat": 4,
 "nbformat_minor": 5
}
