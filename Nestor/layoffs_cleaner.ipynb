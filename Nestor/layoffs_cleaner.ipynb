{
 "cells": [
  {
   "cell_type": "code",
   "execution_count": 2,
   "metadata": {},
   "outputs": [],
   "source": [
    "#Import Dependencies\n",
    "import pandas as pd\n",
    "import matplotlib.pyplot as plt"
   ]
  },
  {
   "cell_type": "code",
   "execution_count": 3,
   "metadata": {},
   "outputs": [
    {
     "data": {
      "text/html": [
       "<div>\n",
       "<style scoped>\n",
       "    .dataframe tbody tr th:only-of-type {\n",
       "        vertical-align: middle;\n",
       "    }\n",
       "\n",
       "    .dataframe tbody tr th {\n",
       "        vertical-align: top;\n",
       "    }\n",
       "\n",
       "    .dataframe thead th {\n",
       "        text-align: right;\n",
       "    }\n",
       "</style>\n",
       "<table border=\"1\" class=\"dataframe\">\n",
       "  <thead>\n",
       "    <tr style=\"text-align: right;\">\n",
       "      <th></th>\n",
       "      <th>company</th>\n",
       "      <th>location</th>\n",
       "      <th>industry</th>\n",
       "      <th>total_laid_off</th>\n",
       "      <th>percentage_laid_off</th>\n",
       "      <th>date</th>\n",
       "      <th>stage</th>\n",
       "      <th>country</th>\n",
       "      <th>funds_raised</th>\n",
       "    </tr>\n",
       "  </thead>\n",
       "  <tbody>\n",
       "    <tr>\n",
       "      <th>0</th>\n",
       "      <td>Cisco</td>\n",
       "      <td>SF Bay Area</td>\n",
       "      <td>Infrastructure</td>\n",
       "      <td>4000.0</td>\n",
       "      <td>0.05</td>\n",
       "      <td>2024-08-09</td>\n",
       "      <td>Post-IPO</td>\n",
       "      <td>United States</td>\n",
       "      <td>2.0</td>\n",
       "    </tr>\n",
       "    <tr>\n",
       "      <th>1</th>\n",
       "      <td>Branch.io</td>\n",
       "      <td>SF Bay Area</td>\n",
       "      <td>Marketing</td>\n",
       "      <td>100.0</td>\n",
       "      <td>NaN</td>\n",
       "      <td>2024-08-09</td>\n",
       "      <td>Series F</td>\n",
       "      <td>United States</td>\n",
       "      <td>667.0</td>\n",
       "    </tr>\n",
       "    <tr>\n",
       "      <th>2</th>\n",
       "      <td>Ready Robotics</td>\n",
       "      <td>Columbus</td>\n",
       "      <td>Manufacturing</td>\n",
       "      <td>NaN</td>\n",
       "      <td>NaN</td>\n",
       "      <td>2024-08-09</td>\n",
       "      <td>Unknown</td>\n",
       "      <td>United States</td>\n",
       "      <td>41.0</td>\n",
       "    </tr>\n",
       "    <tr>\n",
       "      <th>3</th>\n",
       "      <td>Fastly</td>\n",
       "      <td>SF Bay Area</td>\n",
       "      <td>Infrastructure</td>\n",
       "      <td>NaN</td>\n",
       "      <td>0.11</td>\n",
       "      <td>2024-08-08</td>\n",
       "      <td>Post-IPO</td>\n",
       "      <td>United States</td>\n",
       "      <td>219.0</td>\n",
       "    </tr>\n",
       "    <tr>\n",
       "      <th>4</th>\n",
       "      <td>Eventbrite</td>\n",
       "      <td>SF Bay Area</td>\n",
       "      <td>Consumer</td>\n",
       "      <td>100.0</td>\n",
       "      <td>0.11</td>\n",
       "      <td>2024-08-07</td>\n",
       "      <td>Post-IPO</td>\n",
       "      <td>United States</td>\n",
       "      <td>557.0</td>\n",
       "    </tr>\n",
       "  </tbody>\n",
       "</table>\n",
       "</div>"
      ],
      "text/plain": [
       "          company     location        industry  total_laid_off  \\\n",
       "0           Cisco  SF Bay Area  Infrastructure          4000.0   \n",
       "1       Branch.io  SF Bay Area       Marketing           100.0   \n",
       "2  Ready Robotics     Columbus   Manufacturing             NaN   \n",
       "3          Fastly  SF Bay Area  Infrastructure             NaN   \n",
       "4      Eventbrite  SF Bay Area        Consumer           100.0   \n",
       "\n",
       "   percentage_laid_off        date     stage        country  funds_raised  \n",
       "0                 0.05  2024-08-09  Post-IPO  United States           2.0  \n",
       "1                  NaN  2024-08-09  Series F  United States         667.0  \n",
       "2                  NaN  2024-08-09   Unknown  United States          41.0  \n",
       "3                 0.11  2024-08-08  Post-IPO  United States         219.0  \n",
       "4                 0.11  2024-08-07  Post-IPO  United States         557.0  "
      ]
     },
     "execution_count": 3,
     "metadata": {},
     "output_type": "execute_result"
    }
   ],
   "source": [
    "# Read CSV and write it to a dataframe\n",
    "df_layoffs = pd.read_csv(\n",
    "    \"Resources/layoffs.csv\")\n",
    "\n",
    "df_layoffs.head()"
   ]
  },
  {
   "cell_type": "code",
   "execution_count": 4,
   "metadata": {},
   "outputs": [],
   "source": [
    "# Convert date from string to date time\n",
    "df_layoffs_dated = df_layoffs.astype({\"date\":\"datetime64[ns]\"})\n"
   ]
  },
  {
   "cell_type": "code",
   "execution_count": 5,
   "metadata": {},
   "outputs": [
    {
     "name": "stdout",
     "output_type": "stream",
     "text": [
      "<class 'pandas.core.frame.DataFrame'>\n",
      "RangeIndex: 3743 entries, 0 to 3742\n",
      "Data columns (total 9 columns):\n",
      " #   Column               Non-Null Count  Dtype         \n",
      "---  ------               --------------  -----         \n",
      " 0   company              3743 non-null   object        \n",
      " 1   location             3742 non-null   object        \n",
      " 2   industry             3742 non-null   object        \n",
      " 3   total_laid_off       2451 non-null   float64       \n",
      " 4   percentage_laid_off  2400 non-null   float64       \n",
      " 5   date                 3743 non-null   datetime64[ns]\n",
      " 6   stage                3736 non-null   object        \n",
      " 7   country              3743 non-null   object        \n",
      " 8   funds_raised         3340 non-null   float64       \n",
      "dtypes: datetime64[ns](1), float64(3), object(5)\n",
      "memory usage: 263.3+ KB\n"
     ]
    }
   ],
   "source": [
    "# Confirm all date times are correct\n",
    "df_layoffs_dated.info()\n"
   ]
  },
  {
   "cell_type": "code",
   "execution_count": 6,
   "metadata": {},
   "outputs": [
    {
     "data": {
      "text/html": [
       "<div>\n",
       "<style scoped>\n",
       "    .dataframe tbody tr th:only-of-type {\n",
       "        vertical-align: middle;\n",
       "    }\n",
       "\n",
       "    .dataframe tbody tr th {\n",
       "        vertical-align: top;\n",
       "    }\n",
       "\n",
       "    .dataframe thead th {\n",
       "        text-align: right;\n",
       "    }\n",
       "</style>\n",
       "<table border=\"1\" class=\"dataframe\">\n",
       "  <thead>\n",
       "    <tr style=\"text-align: right;\">\n",
       "      <th></th>\n",
       "      <th>company</th>\n",
       "      <th>location</th>\n",
       "      <th>industry</th>\n",
       "      <th>total_laid_off</th>\n",
       "      <th>percentage_laid_off</th>\n",
       "      <th>date</th>\n",
       "      <th>stage</th>\n",
       "      <th>country</th>\n",
       "      <th>funds_raised</th>\n",
       "    </tr>\n",
       "  </thead>\n",
       "  <tbody>\n",
       "    <tr>\n",
       "      <th>0</th>\n",
       "      <td>Cisco</td>\n",
       "      <td>SF Bay Area</td>\n",
       "      <td>Infrastructure</td>\n",
       "      <td>4000.0</td>\n",
       "      <td>0.05</td>\n",
       "      <td>2024-08-09</td>\n",
       "      <td>Post-IPO</td>\n",
       "      <td>United States</td>\n",
       "      <td>2.0</td>\n",
       "    </tr>\n",
       "    <tr>\n",
       "      <th>1</th>\n",
       "      <td>Branch.io</td>\n",
       "      <td>SF Bay Area</td>\n",
       "      <td>Marketing</td>\n",
       "      <td>100.0</td>\n",
       "      <td>NaN</td>\n",
       "      <td>2024-08-09</td>\n",
       "      <td>Series F</td>\n",
       "      <td>United States</td>\n",
       "      <td>667.0</td>\n",
       "    </tr>\n",
       "    <tr>\n",
       "      <th>2</th>\n",
       "      <td>Ready Robotics</td>\n",
       "      <td>Columbus</td>\n",
       "      <td>Manufacturing</td>\n",
       "      <td>NaN</td>\n",
       "      <td>NaN</td>\n",
       "      <td>2024-08-09</td>\n",
       "      <td>Unknown</td>\n",
       "      <td>United States</td>\n",
       "      <td>41.0</td>\n",
       "    </tr>\n",
       "    <tr>\n",
       "      <th>3</th>\n",
       "      <td>Fastly</td>\n",
       "      <td>SF Bay Area</td>\n",
       "      <td>Infrastructure</td>\n",
       "      <td>NaN</td>\n",
       "      <td>0.11</td>\n",
       "      <td>2024-08-08</td>\n",
       "      <td>Post-IPO</td>\n",
       "      <td>United States</td>\n",
       "      <td>219.0</td>\n",
       "    </tr>\n",
       "    <tr>\n",
       "      <th>4</th>\n",
       "      <td>Eventbrite</td>\n",
       "      <td>SF Bay Area</td>\n",
       "      <td>Consumer</td>\n",
       "      <td>100.0</td>\n",
       "      <td>0.11</td>\n",
       "      <td>2024-08-07</td>\n",
       "      <td>Post-IPO</td>\n",
       "      <td>United States</td>\n",
       "      <td>557.0</td>\n",
       "    </tr>\n",
       "  </tbody>\n",
       "</table>\n",
       "</div>"
      ],
      "text/plain": [
       "          company     location        industry  total_laid_off  \\\n",
       "0           Cisco  SF Bay Area  Infrastructure          4000.0   \n",
       "1       Branch.io  SF Bay Area       Marketing           100.0   \n",
       "2  Ready Robotics     Columbus   Manufacturing             NaN   \n",
       "3          Fastly  SF Bay Area  Infrastructure             NaN   \n",
       "4      Eventbrite  SF Bay Area        Consumer           100.0   \n",
       "\n",
       "   percentage_laid_off       date     stage        country  funds_raised  \n",
       "0                 0.05 2024-08-09  Post-IPO  United States           2.0  \n",
       "1                  NaN 2024-08-09  Series F  United States         667.0  \n",
       "2                  NaN 2024-08-09   Unknown  United States          41.0  \n",
       "3                 0.11 2024-08-08  Post-IPO  United States         219.0  \n",
       "4                 0.11 2024-08-07  Post-IPO  United States         557.0  "
      ]
     },
     "execution_count": 6,
     "metadata": {},
     "output_type": "execute_result"
    }
   ],
   "source": [
    "# take a peek at the df\n",
    "df_layoffs_dated.head()"
   ]
  },
  {
   "cell_type": "code",
   "execution_count": 7,
   "metadata": {},
   "outputs": [
    {
     "data": {
      "text/plain": [
       "country\n",
       "United States    2427\n",
       "Name: count, dtype: int64"
      ]
     },
     "execution_count": 7,
     "metadata": {},
     "output_type": "execute_result"
    }
   ],
   "source": [
    "# filter down to just US data\n",
    "df_layoffs_dated = df_layoffs_dated[df_layoffs_dated.country == 'United States']\n",
    "# Confirm data is filtered\n",
    "df_layoffs_dated['country'].value_counts()"
   ]
  },
  {
   "cell_type": "code",
   "execution_count": 8,
   "metadata": {},
   "outputs": [],
   "source": [
    "# create column with just month and year\n",
    "df_layoffs_dated[\"period\"] = df_layoffs_dated['date'].dt.strftime('%Y/%m')\n"
   ]
  },
  {
   "cell_type": "code",
   "execution_count": 9,
   "metadata": {},
   "outputs": [
    {
     "data": {
      "text/plain": [
       "period\n",
       "2020/03     7850.0\n",
       "2020/04    19821.0\n",
       "2020/05    14674.0\n",
       "2020/06     3926.0\n",
       "2020/07     1612.0\n",
       "2020/08     1456.0\n",
       "2020/09      567.0\n",
       "2020/10      110.0\n",
       "2020/11      237.0\n",
       "2020/12      132.0\n",
       "2021/01     3172.0\n",
       "2021/02      336.0\n",
       "2021/03       47.0\n",
       "2021/04      261.0\n",
       "2021/06     2434.0\n",
       "2021/08       67.0\n",
       "2021/09      161.0\n",
       "2021/10       22.0\n",
       "2021/11     2070.0\n",
       "2021/12      900.0\n",
       "Name: total_laid_off, dtype: float64"
      ]
     },
     "execution_count": 9,
     "metadata": {},
     "output_type": "execute_result"
    }
   ],
   "source": [
    "# create series with total layoffs summed by month\n",
    "sf_layoffs_bydate = df_layoffs_dated.groupby([\"period\"])[\"total_laid_off\"].sum()\n",
    "sf_funds_raised_bydate = df_layoffs_dated.groupby([\"period\"])[\"funds_raised\"].sum()\n",
    "\n",
    "sf_layoffs_bydate.head(20)"
   ]
  },
  {
   "cell_type": "code",
   "execution_count": 10,
   "metadata": {},
   "outputs": [
    {
     "data": {
      "text/html": [
       "<div>\n",
       "<style scoped>\n",
       "    .dataframe tbody tr th:only-of-type {\n",
       "        vertical-align: middle;\n",
       "    }\n",
       "\n",
       "    .dataframe tbody tr th {\n",
       "        vertical-align: top;\n",
       "    }\n",
       "\n",
       "    .dataframe thead th {\n",
       "        text-align: right;\n",
       "    }\n",
       "</style>\n",
       "<table border=\"1\" class=\"dataframe\">\n",
       "  <thead>\n",
       "    <tr style=\"text-align: right;\">\n",
       "      <th></th>\n",
       "      <th>period</th>\n",
       "      <th>laid_off_by_month</th>\n",
       "      <th>funds_raised_by_month</th>\n",
       "    </tr>\n",
       "  </thead>\n",
       "  <tbody>\n",
       "    <tr>\n",
       "      <th>0</th>\n",
       "      <td>2020/03</td>\n",
       "      <td>7850.0</td>\n",
       "      <td>15530.2</td>\n",
       "    </tr>\n",
       "    <tr>\n",
       "      <th>1</th>\n",
       "      <td>2020/04</td>\n",
       "      <td>19821.0</td>\n",
       "      <td>43862.0</td>\n",
       "    </tr>\n",
       "    <tr>\n",
       "      <th>2</th>\n",
       "      <td>2020/05</td>\n",
       "      <td>14674.0</td>\n",
       "      <td>74191.0</td>\n",
       "    </tr>\n",
       "    <tr>\n",
       "      <th>3</th>\n",
       "      <td>2020/06</td>\n",
       "      <td>3926.0</td>\n",
       "      <td>11724.1</td>\n",
       "    </tr>\n",
       "    <tr>\n",
       "      <th>4</th>\n",
       "      <td>2020/07</td>\n",
       "      <td>1612.0</td>\n",
       "      <td>4447.0</td>\n",
       "    </tr>\n",
       "  </tbody>\n",
       "</table>\n",
       "</div>"
      ],
      "text/plain": [
       "    period  laid_off_by_month  funds_raised_by_month\n",
       "0  2020/03             7850.0                15530.2\n",
       "1  2020/04            19821.0                43862.0\n",
       "2  2020/05            14674.0                74191.0\n",
       "3  2020/06             3926.0                11724.1\n",
       "4  2020/07             1612.0                 4447.0"
      ]
     },
     "execution_count": 10,
     "metadata": {},
     "output_type": "execute_result"
    }
   ],
   "source": [
    "# create dataframe from summed series\n",
    "df_layoffs_bydate = pd.DataFrame({  \n",
    "    \"period\" : sf_layoffs_bydate.index, \n",
    "    \"laid_off_by_month\" : sf_layoffs_bydate.values,\n",
    "    \"funds_raised_by_month\" : sf_funds_raised_bydate.values\n",
    "    })\n",
    "\n",
    "df_layoffs_bydate.head()"
   ]
  },
  {
   "cell_type": "code",
   "execution_count": 17,
   "metadata": {},
   "outputs": [
    {
     "data": {
      "image/png": "[encoded data removed]",
      "text/plain": [
       "<Figure size 640x480 with 1 Axes>"
      ]
     },
     "metadata": {},
     "output_type": "display_data"
    }
   ],
   "source": [
    "# intialize figure\n",
    "fig, ax = plt.subplots()\n",
    "# Plot data\n",
    "ax.plot(\"period\", \"laid_off_by_month\", data=df_layoffs_bydate)\n",
    "# set labels and title\n",
    "ax.set(ylabel=\"fun\", title= \"Total Laid Off by Month\")\n",
    "# Set the number of ticks on the x-axis to 10\n",
    "ax.set_xticks(ax.get_xticks()[::len(df_layoffs_bydate)//10])\n",
    "#Rotate x tick labels by 45 degrees\n",
    "ax.set_xticklabels(ax.get_xticklabels(), rotation=45)\n",
    "\n",
    "ax.plot(\"period\", \"funds_raised_by_month\", data=df_layoffs_bydate )\n",
    "\n",
    "ax.legend()\n",
    "plt.show()"
   ]
  },
  {
   "cell_type": "code",
   "execution_count": 19,
   "metadata": {},
   "outputs": [
    {
     "ename": "TypeError",
     "evalue": "cannot unpack non-iterable Axes object",
     "output_type": "error",
     "traceback": [
      "\u001b[1;31m---------------------------------------------------------------------------\u001b[0m",
      "\u001b[1;31mTypeError\u001b[0m                                 Traceback (most recent call last)",
      "Cell \u001b[1;32mIn[19], line 2\u001b[0m\n\u001b[0;32m      1\u001b[0m \u001b[38;5;66;03m# intialize figure\u001b[39;00m\n\u001b[1;32m----> 2\u001b[0m fig, (ax1, ax2) \u001b[38;5;241m=\u001b[39m plt\u001b[38;5;241m.\u001b[39msubplots()\n\u001b[0;32m      3\u001b[0m ax2 \u001b[38;5;241m=\u001b[39m ax1\u001b[38;5;241m.\u001b[39mtwinx()\n\u001b[0;32m      4\u001b[0m \u001b[38;5;66;03m# Plot data\u001b[39;00m\n",
      "\u001b[1;31mTypeError\u001b[0m: cannot unpack non-iterable Axes object"
     ]
    },
    {
     "data": {
      "image/png": "[encoded data removed]",
      "text/plain": [
       "<Figure size 640x480 with 1 Axes>"
      ]
     },
     "metadata": {},
     "output_type": "display_data"
    }
   ],
   "source": [
    "# intialize figure\n",
    "fig, (ax1, ax2) = plt.subplots()\n",
    "ax2 = ax1.twinx()\n",
    "# Plot data\n",
    "ax1.plot(\"period\", \"laid_off_by_month\", data=df_layoffs_bydate)\n",
    "# set labels and title\n",
    "ax1.set(ylabel=\"fun\", title= \"Total Laid Off by Month\")\n",
    "# Set the number of ticks on the x-axis to 10\n",
    "ax1.set_xticks(ax.get_xticks()[::len(df_layoffs_bydate)//10])\n",
    "#Rotate x tick labels by 45 degrees\n",
    "ax1.set_xticklabels(ax.get_xticklabels(), rotation=45)\n",
    "\n",
    "ax2.plot(\"period\", \"funds_raised_by_month\", data=df_layoffs_bydate )\n",
    "\n",
    "ax1.legend()\n",
    "ax2.legend()\n",
    "plt.show()"
   ]
  }
 ],
 "metadata": {
  "kernelspec": {
   "display_name": "dev2",
   "language": "python",
   "name": "python3"
  },
  "language_info": {
   "codemirror_mode": {
    "name": "ipython",
    "version": 3
   },
   "file_extension": ".py",
   "mimetype": "text/x-python",
   "name": "python",
   "nbconvert_exporter": "python",
   "pygments_lexer": "ipython3",
   "version": "3.10.14"
  }
 },
 "nbformat": 4,
 "nbformat_minor": 2
}
