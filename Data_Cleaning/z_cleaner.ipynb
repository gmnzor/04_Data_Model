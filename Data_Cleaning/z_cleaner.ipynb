{
 "cells": [
  {
   "cell_type": "code",
   "execution_count": 92,
   "metadata": {},
   "outputs": [],
   "source": [
    "#Import Dependencies\n",
    "import pandas as pd\n",
    "import matplotlib.pyplot as plt\n",
    "import os"
   ]
  },
  {
   "cell_type": "code",
   "execution_count": 93,
   "metadata": {},
   "outputs": [],
   "source": [
    "def print_to_csv(name, df):\n",
    "    # Step 1: Create the 'Dataframes' folder if it doesn't exist\n",
    "    folder_path = 'Resources\\Output'\n",
    "    if not os.path.exists(folder_path):\n",
    "        os.makedirs(folder_path)\n",
    "        print(f\"Folder created: {folder_path}\")\n",
    "    else:\n",
    "        print(f\"Folder already exists: {folder_path}\")\n",
    "\n",
    "    # Step 2: Define the CSV file path\n",
    "    csv_path = os.path.join(folder_path, f\"{name}.csv\")\n",
    "\n",
    "    # Step 3: Save the combined DataFrame as a CSV file\n",
    "    df.to_csv(csv_path, index=False)\n",
    "    print(f\"DataFrame saved as CSV at {csv_path}\")"
   ]
  },
  {
   "cell_type": "code",
   "execution_count": 94,
   "metadata": {},
   "outputs": [
    {
     "data": {
      "text/html": [
       "<div>\n",
       "<style scoped>\n",
       "    .dataframe tbody tr th:only-of-type {\n",
       "        vertical-align: middle;\n",
       "    }\n",
       "\n",
       "    .dataframe tbody tr th {\n",
       "        vertical-align: top;\n",
       "    }\n",
       "\n",
       "    .dataframe thead th {\n",
       "        text-align: right;\n",
       "    }\n",
       "</style>\n",
       "<table border=\"1\" class=\"dataframe\">\n",
       "  <thead>\n",
       "    <tr style=\"text-align: right;\">\n",
       "      <th></th>\n",
       "      <th>Date</th>\n",
       "      <th>Open</th>\n",
       "      <th>High</th>\n",
       "      <th>Low</th>\n",
       "      <th>Close</th>\n",
       "      <th>Adj_Close</th>\n",
       "      <th>Volume</th>\n",
       "    </tr>\n",
       "  </thead>\n",
       "  <tbody>\n",
       "    <tr>\n",
       "      <th>0</th>\n",
       "      <td>9/1/2024</td>\n",
       "      <td>5623.89</td>\n",
       "      <td>5623.89</td>\n",
       "      <td>5402.62</td>\n",
       "      <td>5471.05</td>\n",
       "      <td>5471.05</td>\n",
       "      <td>18514880000</td>\n",
       "    </tr>\n",
       "    <tr>\n",
       "      <th>1</th>\n",
       "      <td>8/1/2024</td>\n",
       "      <td>5537.84</td>\n",
       "      <td>5651.62</td>\n",
       "      <td>5119.26</td>\n",
       "      <td>5648.40</td>\n",
       "      <td>5648.40</td>\n",
       "      <td>81097300000</td>\n",
       "    </tr>\n",
       "    <tr>\n",
       "      <th>2</th>\n",
       "      <td>7/1/2024</td>\n",
       "      <td>5471.08</td>\n",
       "      <td>5669.67</td>\n",
       "      <td>5390.95</td>\n",
       "      <td>5522.30</td>\n",
       "      <td>5522.30</td>\n",
       "      <td>80160390000</td>\n",
       "    </tr>\n",
       "    <tr>\n",
       "      <th>3</th>\n",
       "      <td>6/1/2024</td>\n",
       "      <td>5297.15</td>\n",
       "      <td>5523.64</td>\n",
       "      <td>5234.32</td>\n",
       "      <td>5460.48</td>\n",
       "      <td>5460.48</td>\n",
       "      <td>76025620000</td>\n",
       "    </tr>\n",
       "    <tr>\n",
       "      <th>4</th>\n",
       "      <td>5/1/2024</td>\n",
       "      <td>5029.03</td>\n",
       "      <td>5341.88</td>\n",
       "      <td>5011.05</td>\n",
       "      <td>5277.51</td>\n",
       "      <td>5277.51</td>\n",
       "      <td>86849720000</td>\n",
       "    </tr>\n",
       "  </tbody>\n",
       "</table>\n",
       "</div>"
      ],
      "text/plain": [
       "       Date     Open     High      Low    Close  Adj_Close       Volume\n",
       "0  9/1/2024  5623.89  5623.89  5402.62  5471.05    5471.05  18514880000\n",
       "1  8/1/2024  5537.84  5651.62  5119.26  5648.40    5648.40  81097300000\n",
       "2  7/1/2024  5471.08  5669.67  5390.95  5522.30    5522.30  80160390000\n",
       "3  6/1/2024  5297.15  5523.64  5234.32  5460.48    5460.48  76025620000\n",
       "4  5/1/2024  5029.03  5341.88  5011.05  5277.51    5277.51  86849720000"
      ]
     },
     "execution_count": 94,
     "metadata": {},
     "output_type": "execute_result"
    }
   ],
   "source": [
    "\n",
    "# Read CSV and write it to a dataframe\n",
    "df_stocks = pd.read_csv(\n",
    "    \"Resources/Input/stock_data.csv\", thousands=',')\n",
    "\n",
    "df_stocks.head()"
   ]
  },
  {
   "cell_type": "code",
   "execution_count": 95,
   "metadata": {},
   "outputs": [
    {
     "data": {
      "text/html": [
       "<div>\n",
       "<style scoped>\n",
       "    .dataframe tbody tr th:only-of-type {\n",
       "        vertical-align: middle;\n",
       "    }\n",
       "\n",
       "    .dataframe tbody tr th {\n",
       "        vertical-align: top;\n",
       "    }\n",
       "\n",
       "    .dataframe thead th {\n",
       "        text-align: right;\n",
       "    }\n",
       "</style>\n",
       "<table border=\"1\" class=\"dataframe\">\n",
       "  <thead>\n",
       "    <tr style=\"text-align: right;\">\n",
       "      <th></th>\n",
       "      <th>date</th>\n",
       "      <th>stock_open</th>\n",
       "      <th>stock_high</th>\n",
       "      <th>stock_low</th>\n",
       "      <th>stock_close</th>\n",
       "      <th>stock_adj_close</th>\n",
       "      <th>stock_volume</th>\n",
       "    </tr>\n",
       "  </thead>\n",
       "  <tbody>\n",
       "    <tr>\n",
       "      <th>0</th>\n",
       "      <td>9/1/2024</td>\n",
       "      <td>5623.89</td>\n",
       "      <td>5623.89</td>\n",
       "      <td>5402.62</td>\n",
       "      <td>5471.05</td>\n",
       "      <td>5471.05</td>\n",
       "      <td>18514880000</td>\n",
       "    </tr>\n",
       "    <tr>\n",
       "      <th>1</th>\n",
       "      <td>8/1/2024</td>\n",
       "      <td>5537.84</td>\n",
       "      <td>5651.62</td>\n",
       "      <td>5119.26</td>\n",
       "      <td>5648.40</td>\n",
       "      <td>5648.40</td>\n",
       "      <td>81097300000</td>\n",
       "    </tr>\n",
       "    <tr>\n",
       "      <th>2</th>\n",
       "      <td>7/1/2024</td>\n",
       "      <td>5471.08</td>\n",
       "      <td>5669.67</td>\n",
       "      <td>5390.95</td>\n",
       "      <td>5522.30</td>\n",
       "      <td>5522.30</td>\n",
       "      <td>80160390000</td>\n",
       "    </tr>\n",
       "    <tr>\n",
       "      <th>3</th>\n",
       "      <td>6/1/2024</td>\n",
       "      <td>5297.15</td>\n",
       "      <td>5523.64</td>\n",
       "      <td>5234.32</td>\n",
       "      <td>5460.48</td>\n",
       "      <td>5460.48</td>\n",
       "      <td>76025620000</td>\n",
       "    </tr>\n",
       "    <tr>\n",
       "      <th>4</th>\n",
       "      <td>5/1/2024</td>\n",
       "      <td>5029.03</td>\n",
       "      <td>5341.88</td>\n",
       "      <td>5011.05</td>\n",
       "      <td>5277.51</td>\n",
       "      <td>5277.51</td>\n",
       "      <td>86849720000</td>\n",
       "    </tr>\n",
       "  </tbody>\n",
       "</table>\n",
       "</div>"
      ],
      "text/plain": [
       "       date  stock_open  stock_high  stock_low  stock_close  stock_adj_close  \\\n",
       "0  9/1/2024     5623.89     5623.89    5402.62      5471.05          5471.05   \n",
       "1  8/1/2024     5537.84     5651.62    5119.26      5648.40          5648.40   \n",
       "2  7/1/2024     5471.08     5669.67    5390.95      5522.30          5522.30   \n",
       "3  6/1/2024     5297.15     5523.64    5234.32      5460.48          5460.48   \n",
       "4  5/1/2024     5029.03     5341.88    5011.05      5277.51          5277.51   \n",
       "\n",
       "   stock_volume  \n",
       "0   18514880000  \n",
       "1   81097300000  \n",
       "2   80160390000  \n",
       "3   76025620000  \n",
       "4   86849720000  "
      ]
     },
     "execution_count": 95,
     "metadata": {},
     "output_type": "execute_result"
    }
   ],
   "source": [
    "# clean names\n",
    "df_stocks.rename(columns={\n",
    "    'Date':  'date',\n",
    "    'Open':  'stock_open',\n",
    "    'High':  'stock_high',\n",
    "    'Low':   'stock_low',\n",
    "    'Close': 'stock_close',\n",
    "    'Adj_Close': 'stock_adj_close' ,\n",
    "    'Volume': \"stock_volume\"\n",
    "    }, inplace=True)\n",
    "df_stocks.head()"
   ]
  },
  {
   "cell_type": "code",
   "execution_count": 96,
   "metadata": {},
   "outputs": [
    {
     "name": "stdout",
     "output_type": "stream",
     "text": [
      "<class 'pandas.core.frame.DataFrame'>\n",
      "RangeIndex: 60 entries, 0 to 59\n",
      "Data columns (total 7 columns):\n",
      " #   Column           Non-Null Count  Dtype  \n",
      "---  ------           --------------  -----  \n",
      " 0   date             60 non-null     object \n",
      " 1   stock_open       60 non-null     float64\n",
      " 2   stock_high       60 non-null     float64\n",
      " 3   stock_low        60 non-null     float64\n",
      " 4   stock_close      60 non-null     float64\n",
      " 5   stock_adj_close  60 non-null     float64\n",
      " 6   stock_volume     60 non-null     int64  \n",
      "dtypes: float64(5), int64(1), object(1)\n",
      "memory usage: 3.4+ KB\n"
     ]
    }
   ],
   "source": [
    "df_stocks.info()"
   ]
  },
  {
   "cell_type": "code",
   "execution_count": 97,
   "metadata": {},
   "outputs": [
    {
     "name": "stdout",
     "output_type": "stream",
     "text": [
      "Folder already exists: Resources\\Output\n",
      "DataFrame saved as CSV at Resources\\Output\\z_stock_data.csv\n"
     ]
    }
   ],
   "source": [
    "print_to_csv(\"z_stock_data\", df_stocks)"
   ]
  },
  {
   "cell_type": "code",
   "execution_count": 98,
   "metadata": {},
   "outputs": [
    {
     "data": {
      "text/html": [
       "<div>\n",
       "<style scoped>\n",
       "    .dataframe tbody tr th:only-of-type {\n",
       "        vertical-align: middle;\n",
       "    }\n",
       "\n",
       "    .dataframe tbody tr th {\n",
       "        vertical-align: top;\n",
       "    }\n",
       "\n",
       "    .dataframe thead th {\n",
       "        text-align: right;\n",
       "    }\n",
       "</style>\n",
       "<table border=\"1\" class=\"dataframe\">\n",
       "  <thead>\n",
       "    <tr style=\"text-align: right;\">\n",
       "      <th></th>\n",
       "      <th>DATE</th>\n",
       "      <th>UNRATE</th>\n",
       "    </tr>\n",
       "  </thead>\n",
       "  <tbody>\n",
       "    <tr>\n",
       "      <th>0</th>\n",
       "      <td>2019-08-01</td>\n",
       "      <td>3.6</td>\n",
       "    </tr>\n",
       "    <tr>\n",
       "      <th>1</th>\n",
       "      <td>2019-09-01</td>\n",
       "      <td>3.5</td>\n",
       "    </tr>\n",
       "    <tr>\n",
       "      <th>2</th>\n",
       "      <td>2019-10-01</td>\n",
       "      <td>3.6</td>\n",
       "    </tr>\n",
       "    <tr>\n",
       "      <th>3</th>\n",
       "      <td>2019-11-01</td>\n",
       "      <td>3.6</td>\n",
       "    </tr>\n",
       "    <tr>\n",
       "      <th>4</th>\n",
       "      <td>2019-12-01</td>\n",
       "      <td>3.6</td>\n",
       "    </tr>\n",
       "  </tbody>\n",
       "</table>\n",
       "</div>"
      ],
      "text/plain": [
       "         DATE  UNRATE\n",
       "0  2019-08-01     3.6\n",
       "1  2019-09-01     3.5\n",
       "2  2019-10-01     3.6\n",
       "3  2019-11-01     3.6\n",
       "4  2019-12-01     3.6"
      ]
     },
     "execution_count": 98,
     "metadata": {},
     "output_type": "execute_result"
    }
   ],
   "source": [
    "# Read CSV and write it to a dataframe\n",
    "df_unemployment = pd.read_csv(\n",
    "    \"Resources/Input/UNRATE.csv\")\n",
    "\n",
    "df_unemployment.head()"
   ]
  },
  {
   "cell_type": "code",
   "execution_count": 99,
   "metadata": {},
   "outputs": [
    {
     "data": {
      "text/html": [
       "<div>\n",
       "<style scoped>\n",
       "    .dataframe tbody tr th:only-of-type {\n",
       "        vertical-align: middle;\n",
       "    }\n",
       "\n",
       "    .dataframe tbody tr th {\n",
       "        vertical-align: top;\n",
       "    }\n",
       "\n",
       "    .dataframe thead th {\n",
       "        text-align: right;\n",
       "    }\n",
       "</style>\n",
       "<table border=\"1\" class=\"dataframe\">\n",
       "  <thead>\n",
       "    <tr style=\"text-align: right;\">\n",
       "      <th></th>\n",
       "      <th>date</th>\n",
       "      <th>unemployment_rate</th>\n",
       "    </tr>\n",
       "  </thead>\n",
       "  <tbody>\n",
       "    <tr>\n",
       "      <th>0</th>\n",
       "      <td>2019-08-01</td>\n",
       "      <td>3.6</td>\n",
       "    </tr>\n",
       "    <tr>\n",
       "      <th>1</th>\n",
       "      <td>2019-09-01</td>\n",
       "      <td>3.5</td>\n",
       "    </tr>\n",
       "    <tr>\n",
       "      <th>2</th>\n",
       "      <td>2019-10-01</td>\n",
       "      <td>3.6</td>\n",
       "    </tr>\n",
       "    <tr>\n",
       "      <th>3</th>\n",
       "      <td>2019-11-01</td>\n",
       "      <td>3.6</td>\n",
       "    </tr>\n",
       "    <tr>\n",
       "      <th>4</th>\n",
       "      <td>2019-12-01</td>\n",
       "      <td>3.6</td>\n",
       "    </tr>\n",
       "  </tbody>\n",
       "</table>\n",
       "</div>"
      ],
      "text/plain": [
       "         date  unemployment_rate\n",
       "0  2019-08-01                3.6\n",
       "1  2019-09-01                3.5\n",
       "2  2019-10-01                3.6\n",
       "3  2019-11-01                3.6\n",
       "4  2019-12-01                3.6"
      ]
     },
     "execution_count": 99,
     "metadata": {},
     "output_type": "execute_result"
    }
   ],
   "source": [
    "# clean names\n",
    "df_unemployment.rename(columns={\n",
    "    'DATE':  'date',\n",
    "    'UNRATE':  'unemployment_rate'\n",
    "    }, inplace=True)\n",
    "df_unemployment.head()"
   ]
  },
  {
   "cell_type": "code",
   "execution_count": 100,
   "metadata": {},
   "outputs": [
    {
     "name": "stdout",
     "output_type": "stream",
     "text": [
      "Folder already exists: Resources\\Output\n",
      "DataFrame saved as CSV at Resources\\Output\\z_unemployment_data.csv\n"
     ]
    }
   ],
   "source": [
    "print_to_csv(\"z_unemployment_data\", df_unemployment)"
   ]
  },
  {
   "cell_type": "code",
   "execution_count": 101,
   "metadata": {},
   "outputs": [
    {
     "data": {
      "text/html": [
       "<div>\n",
       "<style scoped>\n",
       "    .dataframe tbody tr th:only-of-type {\n",
       "        vertical-align: middle;\n",
       "    }\n",
       "\n",
       "    .dataframe tbody tr th {\n",
       "        vertical-align: top;\n",
       "    }\n",
       "\n",
       "    .dataframe thead th {\n",
       "        text-align: right;\n",
       "    }\n",
       "</style>\n",
       "<table border=\"1\" class=\"dataframe\">\n",
       "  <thead>\n",
       "    <tr style=\"text-align: right;\">\n",
       "      <th></th>\n",
       "      <th>DATE</th>\n",
       "      <th>FEDFUNDS</th>\n",
       "    </tr>\n",
       "  </thead>\n",
       "  <tbody>\n",
       "    <tr>\n",
       "      <th>0</th>\n",
       "      <td>2019-08-01</td>\n",
       "      <td>2.13</td>\n",
       "    </tr>\n",
       "    <tr>\n",
       "      <th>1</th>\n",
       "      <td>2019-09-01</td>\n",
       "      <td>2.04</td>\n",
       "    </tr>\n",
       "    <tr>\n",
       "      <th>2</th>\n",
       "      <td>2019-10-01</td>\n",
       "      <td>1.83</td>\n",
       "    </tr>\n",
       "    <tr>\n",
       "      <th>3</th>\n",
       "      <td>2019-11-01</td>\n",
       "      <td>1.55</td>\n",
       "    </tr>\n",
       "    <tr>\n",
       "      <th>4</th>\n",
       "      <td>2019-12-01</td>\n",
       "      <td>1.55</td>\n",
       "    </tr>\n",
       "  </tbody>\n",
       "</table>\n",
       "</div>"
      ],
      "text/plain": [
       "         DATE  FEDFUNDS\n",
       "0  2019-08-01      2.13\n",
       "1  2019-09-01      2.04\n",
       "2  2019-10-01      1.83\n",
       "3  2019-11-01      1.55\n",
       "4  2019-12-01      1.55"
      ]
     },
     "execution_count": 101,
     "metadata": {},
     "output_type": "execute_result"
    }
   ],
   "source": [
    "# Read CSV and write it to a dataframe\n",
    "df_fed_rate = pd.read_csv(\n",
    "    \"Resources/Input/FEDFUNDS.csv\")\n",
    "\n",
    "df_fed_rate.head()"
   ]
  },
  {
   "cell_type": "code",
   "execution_count": 102,
   "metadata": {},
   "outputs": [
    {
     "data": {
      "text/html": [
       "<div>\n",
       "<style scoped>\n",
       "    .dataframe tbody tr th:only-of-type {\n",
       "        vertical-align: middle;\n",
       "    }\n",
       "\n",
       "    .dataframe tbody tr th {\n",
       "        vertical-align: top;\n",
       "    }\n",
       "\n",
       "    .dataframe thead th {\n",
       "        text-align: right;\n",
       "    }\n",
       "</style>\n",
       "<table border=\"1\" class=\"dataframe\">\n",
       "  <thead>\n",
       "    <tr style=\"text-align: right;\">\n",
       "      <th></th>\n",
       "      <th>date</th>\n",
       "      <th>fed_rate</th>\n",
       "    </tr>\n",
       "  </thead>\n",
       "  <tbody>\n",
       "    <tr>\n",
       "      <th>0</th>\n",
       "      <td>2019-08-01</td>\n",
       "      <td>2.13</td>\n",
       "    </tr>\n",
       "    <tr>\n",
       "      <th>1</th>\n",
       "      <td>2019-09-01</td>\n",
       "      <td>2.04</td>\n",
       "    </tr>\n",
       "    <tr>\n",
       "      <th>2</th>\n",
       "      <td>2019-10-01</td>\n",
       "      <td>1.83</td>\n",
       "    </tr>\n",
       "    <tr>\n",
       "      <th>3</th>\n",
       "      <td>2019-11-01</td>\n",
       "      <td>1.55</td>\n",
       "    </tr>\n",
       "    <tr>\n",
       "      <th>4</th>\n",
       "      <td>2019-12-01</td>\n",
       "      <td>1.55</td>\n",
       "    </tr>\n",
       "  </tbody>\n",
       "</table>\n",
       "</div>"
      ],
      "text/plain": [
       "         date  fed_rate\n",
       "0  2019-08-01      2.13\n",
       "1  2019-09-01      2.04\n",
       "2  2019-10-01      1.83\n",
       "3  2019-11-01      1.55\n",
       "4  2019-12-01      1.55"
      ]
     },
     "execution_count": 102,
     "metadata": {},
     "output_type": "execute_result"
    }
   ],
   "source": [
    "# clean names\n",
    "df_fed_rate.rename(columns={\n",
    "    'DATE':  'date',\n",
    "    'FEDFUNDS':  'fed_rate'\n",
    "    }, inplace=True)\n",
    "df_fed_rate.head()"
   ]
  },
  {
   "cell_type": "code",
   "execution_count": 103,
   "metadata": {},
   "outputs": [
    {
     "name": "stdout",
     "output_type": "stream",
     "text": [
      "Folder already exists: Resources\\Output\n",
      "DataFrame saved as CSV at Resources\\Output\\z_fed_rate_data.csv\n"
     ]
    }
   ],
   "source": [
    "print_to_csv(\"z_fed_rate_data\", df_fed_rate)"
   ]
  }
 ],
 "metadata": {
  "kernelspec": {
   "display_name": "dev2",
   "language": "python",
   "name": "python3"
  },
  "language_info": {
   "codemirror_mode": {
    "name": "ipython",
    "version": 3
   },
   "file_extension": ".py",
   "mimetype": "text/x-python",
   "name": "python",
   "nbconvert_exporter": "python",
   "pygments_lexer": "ipython3",
   "version": "3.10.14"
  }
 },
 "nbformat": 4,
 "nbformat_minor": 2
}
