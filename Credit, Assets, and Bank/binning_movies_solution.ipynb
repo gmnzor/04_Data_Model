{
 "cells": [
  {
   "cell_type": "code",
   "execution_count": 34,
   "metadata": {},
   "outputs": [],
   "source": [
    "import pandas as pd\n",
    "from pathlib import Path\n",
    "import matplotlib.pyplot as plt\n",
    "import hvplot.pandas\n",
    "\n",
    "from sklearn.cluster import KMeans\n",
    "from sklearn.preprocessing import StandardScaler\n",
    "from statsmodels.tsa.seasonal import seasonal_decompose\n",
    "from sklearn.metrics import mean_squared_error"
   ]
  },
  {
   "cell_type": "code",
   "execution_count": null,
   "metadata": {},
   "outputs": [],
   "source": [
    "#opening the Assets and Liabilities of Commercial Bank data. Weekly estimated aggregated balance sheet for U.S. commercial banks,\n",
    "\n",
    "csv_H8 = Path(\"Assets and Liabilities of Commercial Banks.csv\")\n",
    "as_Liab_df = pd.read_csv(csv_H8, skiprows=0)\n",
    "as_Liab_df.columns = as_Liab_df.columns.str.strip().str.lower().str.replace(' ', '_')\n",
    "as_Liab_df.dropna()\n",
    "\n",
    "\n",
    "\n",
    "csv_H6 = Path(\"Money Stock Measures.csv\")\n",
    "money_st_df = pd.read_csv(csv_H6, skiprows=0)\n",
    "money_st_df.columns = money_st_df.columns.str.strip().str.lower().str.replace(' ', '_')\n",
    "money_st_df.dropna()\n",
    "\n",
    "csv_G19 = Path(\"Consumer Credit.csv\")\n",
    "credit_Cr_df = pd.read_csv(csv_G19, skiprows=0)\n",
    "credit_Cr_df.columns = credit_Cr_df.columns.str.strip().str.lower().str.replace(' ', '_')\n",
    "credit_Cr_df.dropna()\n",
    "\n",
    "merged_df = pd.merge(as_Liab_df, money_st_df, on='series_description', how='inner')\n",
    "final_df = pd.merge(merged_df, credit_Cr_df, on='series_description', how='inner')\n",
    "final_df.dropna()"
   ]
  },
  {
   "cell_type": "code",
   "execution_count": null,
   "metadata": {},
   "outputs": [],
   "source": [
    "final_df.rename(columns={'series_description': 'date'}, inplace=True)\n",
    "\n",
    "# Define the mapping from old column names to the new names you provided\n",
    "column_mapping = {\n",
    "    'bank_credit,_all_commercial_banks,_not_seasonally_adjusted': 'bank_credit',\n",
    "    'securities_in_bank_credit,_all_commercial_banks,_not_seasonally_adjusted': 'securities_in_bank_credit',\n",
    "    'treasury_and_agency_securities,_all_commercial_banks,_not_seasonally_adjusted': 'treasury_agency_securities',\n",
    "    'other_securities,_all_commercial_banks,_not_seasonally_adjusted': 'other_securities',\n",
    "    'real_estate_loans,_all_commercial_banks,_not_seasonally_adjusted': 'real_estate_loans',\n",
    "    'total_assets,_all_commercial_banks,_not_seasonally_adjusted': 'total_assets',\n",
    "    'currency;_seasonally_adjusted': 'currency_sa',\n",
    "    'demand_deposits;_seasonally_adjusted': 'demand_deposits_sa',\n",
    "    'monetary_base;_currency_in_circulation;_not_seasonally_adjusted': 'monetary_base_currency_nsa',\n",
    "    'monetary_base;_total;_not_seasonally_adjusted': 'monetary_base_total_nsa',\n",
    "    'percent_change_of_total_consumer_credit,_seasonally_adjusted_at_an_annual_rate': 'pct_change_consumer_credit_sa',\n",
    "    'total_consumer_credit_owned_and_securitized,_seasonally_adjusted_level': 'consumer_credit_owned_securitized_sa',\n",
    "    'total_consumer_credit_owned_by_nonfinancial_business,_not_seasonally_adjusted_level': 'consumer_credit_nonfinancial_owned_nsa',\n",
    "    'total_consumer_credit_securitized_by_nonfinancial_business,_not_seasonally_adjusted_level': 'consumer_credit_nonfinancial_securitized_nsa',\n",
    "    'total_consumer_credit_owned_by_credit_unions,_not_seasonally_adjusted_level': 'consumer_credit_credit_unions_owned_nsa',\n",
    "}\n",
    "\n",
    "# Rename the columns in final_df based on the mapping\n",
    "final_df.rename(columns=column_mapping, inplace=True)\n",
    "\n",
    "# Verify the result\n",
    "# Define the list of columns you want to keep (those you provided)\n",
    "columns_to_keep = [\n",
    "    'date',\n",
    "    'bank_credit',\n",
    "    'securities_in_bank_credit',\n",
    "    'treasury_agency_securities',\n",
    "    'other_securities',\n",
    "    'real_estate_loans',\n",
    "    'total_assets',\n",
    "    'currency_sa',\n",
    "    'demand_deposits_sa',\n",
    "    'monetary_base_currency_nsa',\n",
    "    'monetary_base_total_nsa',\n",
    "    'pct_change_consumer_credit_sa',\n",
    "    'consumer_credit_owned_securitized_sa',\n",
    "    'consumer_credit_nonfinancial_owned_nsa',\n",
    "    'consumer_credit_nonfinancial_securitized_nsa',\n",
    "    'consumer_credit_credit_unions_owned_nsa'\n",
    "]\n",
    "\n",
    "# Drop the columns that are not in the 'columns_to_keep' list\n",
    "final_df = final_df[columns_to_keep]\n",
    "\n",
    "# Verify the result\n",
    "final_df.head()\n",
    "\n"
   ]
  },
  {
   "cell_type": "code",
   "execution_count": null,
   "metadata": {},
   "outputs": [],
   "source": [
    "final_df['date'] = pd.to_datetime(final_df['date'], format='%Y-%m')\n",
    "final_df.to_csv('output data/final_data.csv', index=False)"
   ]
  },
  {
   "cell_type": "code",
   "execution_count": 7,
   "metadata": {},
   "outputs": [],
   "source": [
    "numeric_df = final_df.select_dtypes(include='number')\n",
    "numeric_df = numeric_df.dropna()  \n",
    "scaler = StandardScaler()\n",
    "scaled_data = scaler.fit_transform(numeric_df)\n",
    "scaled_df = pd.DataFrame(scaled_data, columns=numeric_df.columns, index=numeric_df.index)\n",
    "        "
   ]
  },
  {
   "cell_type": "code",
   "execution_count": null,
   "metadata": {},
   "outputs": [],
   "source": [
    "\n",
    "\n",
    "inertia = []\n",
    "\n",
    "k = list(range(1, 11))\n",
    "\n",
    "#Loop through the list of k values, fit a K-Means model\n",
    "for i in k:\n",
    "    k_model = KMeans(n_clusters=i, random_state=2)\n",
    "    k_model.fit(scaled_df)\n",
    "    inertia.append(k_model.inertia_)\n",
    "\n",
    "# DataFrame to store the elbow data for plotting\n",
    "elbow_data = {\"k\": k, \"inertia\": inertia}\n",
    "df_elbow = pd.DataFrame(elbow_data)\n",
    "\n",
    "df_elbow.hvplot.line(x='k', y='inertia', title='Elbow Curve', xlabel='Number of clusters (k)', ylabel='Inertia')\n"
   ]
  },
  {
   "cell_type": "code",
   "execution_count": 14,
   "metadata": {},
   "outputs": [],
   "source": [
    "#k-means clusters variables grouping \n",
    "model = KMeans(n_clusters=4, random_state=1)\n",
    "\n",
    "model.fit(scaled_df)\n",
    "k_lower = model.predict(scaled_df)\n",
    "bank_predictions_df = scaled_df.copy()\n",
    "#class column with the labels to the bank_predictions_df DataFrame\n",
    "bank_predictions_df['clusters_lower'] = k_lower"
   ]
  },
  {
   "cell_type": "code",
   "execution_count": null,
   "metadata": {},
   "outputs": [],
   "source": [
    "print(home_sales_predictions_df.columns)"
   ]
  },
  {
   "cell_type": "code",
   "execution_count": null,
   "metadata": {},
   "outputs": [],
   "source": [
    "home_sales_predictions_df.hvplot.scatter(\n",
    "    x=\"consumer_credit_owned_securitized_sa\",\n",
    "    y=\"total_assets\",\n",
    "    by=\"clusters_lower\"\n",
    ").opts(yformatter=\"%.0f\")"
   ]
  },
  {
   "cell_type": "code",
   "execution_count": null,
   "metadata": {},
   "outputs": [],
   "source": [
    "home_sales_predictions_df.hvplot.scatter(\n",
    "    x=\"real_estate_loans\",\n",
    "    y=\"demand_deposits_sa\",\n",
    "    by=\"clusters_lower\"\n",
    ").opts(yformatter=\"%.0f\")"
   ]
  },
  {
   "cell_type": "code",
   "execution_count": null,
   "metadata": {},
   "outputs": [],
   "source": [
    "month_decomp = final_df\n",
    "month_decomp.rename({'date': 'month'}, axis=1, inplace=True)\n",
    "month_decomp['month'] = pd.to_datetime(month_decomp['month'])\n",
    "month_decomp.set_index(['month'], inplace=True)\n",
    "month_decomp"
   ]
  },
  {
   "cell_type": "code",
   "execution_count": null,
   "metadata": {},
   "outputs": [],
   "source": [
    "components =seasonal_decompose(month_decomp['consumer_credit_credit_unions_owned_nsa'], model='multiplicative')\n",
    "components.plot()\n",
    "plt.show()"
   ]
  },
  {
   "cell_type": "code",
   "execution_count": null,
   "metadata": {},
   "outputs": [],
   "source": [
    "componentstwo =seasonal_decompose(month_decomp['demand_deposits_sa'], model='multiplicative')\n",
    "componentstwo.plot()\n",
    "plt.show()"
   ]
  },
  {
   "cell_type": "code",
   "execution_count": null,
   "metadata": {},
   "outputs": [],
   "source": []
  }
 ],
 "metadata": {
  "kernelspec": {
   "display_name": "Python 3 (ipykernel)",
   "language": "python",
   "name": "python3"
  },
  "language_info": {
   "codemirror_mode": {
    "name": "ipython",
    "version": 3
   },
   "file_extension": ".py",
   "mimetype": "text/x-python",
   "name": "python",
   "nbconvert_exporter": "python",
   "pygments_lexer": "ipython3",
   "version": "3.10.14"
  }
 },
 "nbformat": 4,
 "nbformat_minor": 2
}
