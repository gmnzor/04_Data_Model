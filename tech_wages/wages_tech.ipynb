{
 "cells": [
  {
   "cell_type": "markdown",
   "id": "308dc016-2203-4f00-987a-6b74497629ee",
   "metadata": {},
   "source": [
    "### Summary of Wage Data Series IDs (Technology Industry):\n",
    "| Series ID             | Category                                     | Area              | Adjustment              | Description                                                                 |\n",
    "|-----------------------|----------------------------------------------|-------------------|-------------------------|-----------------------------------------------------------------------------|\n",
    "| CMU2025100100000D      | Total Compensation (Technology Industry)     | U.S. city average  | Not seasonally adjusted | Tracks total compensation for all workers in the technology industry, including wages and benefits. |\n",
    "| CMU2025100100000P      | Total Compensation (Technology Industry)     | U.S. city average  | Seasonally adjusted     | Tracks total compensation for all workers in the technology industry, including wages and benefits, adjusted for seasonal effects. |\n",
    "| CMU2025100120000D      | Wages and Salaries (Technology Industry)     | U.S. city average  | Not seasonally adjusted | Tracks wages and salaries for workers in the technology industry, excluding benefits. |\n",
    "| CMU2025100120000P      | Wages and Salaries (Technology Industry)     | U.S. city average  | Seasonally adjusted     | Tracks wages and salaries for workers in the technology industry, excluding benefits, adjusted for seasonal effects. |\n",
    "| CMU2025100200000D      | Benefits (Technology Industry)              | U.S. city average  | Not seasonally adjusted | Tracks the cost of benefits (e.g., health insurance, retirement plans) for workers in the technology industry. |\n",
    "| CMU2025100200000P      | Benefits (Technology Industry)              | U.S. city average  | Seasonally adjusted     | Tracks the cost of benefits (e.g., health insurance, retirement plans) for workers in the technology industry, adjusted for seasonal effects. "
   ]
  },
  {
   "cell_type": "markdown",
   "id": "65e83e52",
   "metadata": {},
   "source": [
    "### Wage Data Explanation\n",
    "\n",
    "The **wage data** in this dataset tracks changes in compensation for workers in the technology industry over time. The dataset includes data on **total compensation**, **wages and salaries**, and **benefits** for workers in the private sector.\n",
    "\n",
    "- **Wage Value**: Represents the average compensation for workers in the technology industry during a given period. The value is presented in terms of dollars per hour worked.\n",
    "  - For example, if the **wage value** is **$50**, it means that, on average, workers in the technology sector earned $50 per hour during that quarter.\n",
    "\n",
    "- **Uses of Wage Data**:\n",
    "  - **Tracking Wage Inflation**: This dataset allows for the calculation of wage inflation (percentage change in wages) over time, helping to assess whether compensation is keeping up with the cost of living.\n",
    "  - **Labor Market Trends**: Wage data helps to identify trends in the labor market, including which industries are experiencing wage growth or stagnation.\n",
    "  - **Economic Policy**: Wage growth is often used as an indicator of labor market health, and is monitored by policymakers for decisions on employment and economic growth.\n",
    "\n",
    "In this dataset, the wage data is broken down into specific categories:\n",
    "- **Total Compensation**: Includes wages, salaries, and benefits.\n",
    "- **Wages and Salaries**: Excludes benefits and focuses solely on direct pay.\n",
    "- **Benefits**: Tracks the value of non-wage compensation, such as health insurance and retirement benefits.\n"
   ]
  },
  {
   "cell_type": "code",
   "execution_count": 1,
   "id": "ae94cec9-0d9b-427c-97ad-6bc8918acdf7",
   "metadata": {
    "scrolled": true
   },
   "outputs": [
    {
     "name": "stdout",
     "output_type": "stream",
     "text": [
      "           Series ID  Year Period      Label  Value\n",
      "0  CMU2025100100000D  2018    Q01  2018 Qtr1  48.44\n",
      "1  CMU2025100100000D  2018    Q02  2018 Qtr2  49.08\n",
      "2  CMU2025100100000D  2018    Q03  2018 Qtr3  49.92\n",
      "3  CMU2025100100000D  2018    Q04  2018 Qtr4  49.00\n",
      "4  CMU2025100100000D  2019    Q01  2019 Qtr1  49.87\n"
     ]
    }
   ],
   "source": [
    "import pandas as pd\n",
    "\n",
    "# Load the CSV file into a DataFrame\n",
    "df = pd.read_csv('../Resources/BLS_Wages.csv')\n",
    "\n",
    "# Check the first few rows of the data to understand its structure\n",
    "print(df.head())"
   ]
  },
  {
   "cell_type": "code",
   "execution_count": 3,
   "id": "95c6dbd7-c91c-4a45-8f96-699728c3b548",
   "metadata": {},
   "outputs": [
    {
     "name": "stdout",
     "output_type": "stream",
     "text": [
      "                    Series ID  Value\n",
      "Date                                \n",
      "2018-01-01  CMU2025100100000D  48.44\n",
      "2018-04-01  CMU2025100100000D  49.08\n",
      "2018-07-01  CMU2025100100000D  49.92\n",
      "2018-10-01  CMU2025100100000D  49.00\n",
      "2019-01-01  CMU2025100100000D  49.87\n"
     ]
    }
   ],
   "source": [
    "# Extract the quarter number from the 'Period' column (removing the 'Q')\n",
    "df['Quarter'] = df['Period'].str.extract(r'(\\d+)').astype(int)  # Extract and convert to integer\n",
    "\n",
    "# Convert 'Year' and 'Quarter' into a proper quarterly datetime format\n",
    "df['Date'] = pd.PeriodIndex(year=df['Year'], quarter=df['Quarter'], freq='Q').to_timestamp()\n",
    "\n",
    "# Drop the now redundant 'Year', 'Period', 'Label', and 'Quarter' columns\n",
    "df = df.drop(columns=['Year', 'Period', 'Label', 'Quarter'])\n",
    "\n",
    "# Set 'Date' as the index (optional for time series analysis)\n",
    "df.set_index('Date', inplace=True)\n",
    "\n",
    "# Check the first few rows to verify changes\n",
    "print(df.head())"
   ]
  },
  {
   "cell_type": "code",
   "execution_count": 4,
   "id": "9db92bd7-efe3-46ca-9274-004b86740e16",
   "metadata": {},
   "outputs": [
    {
     "name": "stdout",
     "output_type": "stream",
     "text": [
      "['CMU2025100100000D', 'CMU2025100100000P', 'CMU2025100120000D', 'CMU2025100120000P', 'CMU2025100200000D', 'CMU2025100200000P']\n"
     ]
    }
   ],
   "source": [
    "unique_values = df['Series ID'].unique()\n",
    "unique_values_list = list(unique_values)\n",
    "print(unique_values_list)"
   ]
  },
  {
   "cell_type": "code",
   "execution_count": 7,
   "id": "b42e3115-ae75-4ca1-8494-48702bbc6e5b",
   "metadata": {},
   "outputs": [],
   "source": [
    "# Filter to remove seasonally adjusted Series IDs (those ending with 'P')\n",
    "df = df[df['Series ID'].str.endswith('D')].copy()\n",
    "\n",
    "# Filter for each non-seasonally adjusted compensation category using Series ID\n",
    "total_compensation_df = df[df['Series ID'] == 'CMU2025100100000D'].copy()\n",
    "wages_salaries_df = df[df['Series ID'] == 'CMU2025100120000D'].copy()\n",
    "benefits_df = df[df['Series ID'] == 'CMU2025100200000D'].copy()\n",
    "\n",
    "# Calculate the quarter-over-quarter inflation rate for each compensation category\n",
    "total_compensation_df.loc[:, 'Inflation Rate'] = total_compensation_df['Value'].pct_change() * 100\n",
    "wages_salaries_df.loc[:, 'Inflation Rate'] = wages_salaries_df['Value'].pct_change() * 100\n",
    "benefits_df.loc[:, 'Inflation Rate'] = benefits_df['Value'].pct_change() * 100\n",
    "\n",
    "\n"
   ]
  },
  {
   "cell_type": "code",
   "execution_count": 10,
   "id": "3de24a39",
   "metadata": {},
   "outputs": [
    {
     "name": "stdout",
     "output_type": "stream",
     "text": [
      "                 Series ID  Value  Inflation Rate            Category\n",
      "Date                                                                 \n",
      "2018-01  CMU2025100100000D  48.44        0.000000  Total Compensation\n",
      "2018-04  CMU2025100100000D  49.08        1.321222  Total Compensation\n",
      "2018-07  CMU2025100100000D  49.92        1.711491  Total Compensation\n",
      "2018-10  CMU2025100100000D  49.00       -1.842949  Total Compensation\n",
      "2019-01  CMU2025100100000D  49.87        1.775510  Total Compensation\n",
      "2019-04  CMU2025100100000D  50.21        0.681773  Total Compensation\n",
      "2019-07  CMU2025100100000D  50.68        0.936069  Total Compensation\n",
      "2019-10  CMU2025100100000D  50.94        0.513023  Total Compensation\n",
      "2020-01  CMU2025100100000D  50.82       -0.235571  Total Compensation\n",
      "2020-04  CMU2025100100000D  50.73       -0.177096  Total Compensation\n",
      "                 Series ID  Value  Inflation Rate  Category\n",
      "Date                                                       \n",
      "2021-10  CMU2025100200000D  25.87        2.821940  Benefits\n",
      "2022-01  CMU2025100200000D  26.01        0.541167  Benefits\n",
      "2022-04  CMU2025100200000D  27.19        4.536717  Benefits\n",
      "2022-07  CMU2025100200000D  27.85        2.427363  Benefits\n",
      "2022-10  CMU2025100200000D  29.11        4.524237  Benefits\n",
      "2023-01  CMU2025100200000D  30.29        4.053590  Benefits\n",
      "2023-04  CMU2025100200000D  30.46        0.561241  Benefits\n",
      "2023-07  CMU2025100200000D  30.11       -1.149048  Benefits\n",
      "2023-10  CMU2025100200000D  32.43        7.705081  Benefits\n",
      "2024-01  CMU2025100200000D  33.11        2.096824  Benefits\n"
     ]
    }
   ],
   "source": [
    "# Add a column to identify each compensation category\n",
    "total_compensation_df['Category'] = 'Total Compensation'\n",
    "wages_salaries_df['Category'] = 'Wages and Salaries'\n",
    "benefits_df['Category'] = 'Benefits'\n",
    "\n",
    "# Combine all the DataFrames into one\n",
    "combined_wage_df = pd.concat([total_compensation_df, wages_salaries_df, benefits_df])\n",
    "\n",
    "# Convert the Date index to YYYY-MM format using PeriodIndex\n",
    "combined_wage_df.index = combined_wage_df.index.to_period('M')\n",
    "\n",
    "# Clean up the combined DataFrame\n",
    "combined_wage_df = combined_wage_df[['Series ID', 'Value', 'Inflation Rate', 'Category']]\n",
    "\n",
    "# Fill missing Inflation Rate values with 0\n",
    "combined_wage_df['Inflation Rate'].fillna(0, inplace=True)\n",
    "\n",
    "# Check the first few rows of the combined DataFrame\n",
    "print(combined_wage_df.head(10))\n",
    "print(combined_wage_df.tail(10))"
   ]
  },
  {
   "cell_type": "code",
   "execution_count": 9,
   "id": "75d1de86",
   "metadata": {},
   "outputs": [
    {
     "name": "stdout",
     "output_type": "stream",
     "text": [
      "Folder created: Dataframes\n",
      "DataFrame saved as CSV at Dataframes\\combined_wage_data.csv\n"
     ]
    }
   ],
   "source": [
    "import os\n",
    "\n",
    "# Step 1: Create the 'Dataframes' folder if it doesn't exist\n",
    "folder_path = 'Dataframes'\n",
    "if not os.path.exists(folder_path):\n",
    "    os.makedirs(folder_path)\n",
    "    print(f\"Folder created: {folder_path}\")\n",
    "else:\n",
    "    print(f\"Folder already exists: {folder_path}\")\n",
    "\n",
    "# Step 2: Define the CSV file path for wage data\n",
    "csv_path = os.path.join(folder_path, 'combined_wage_data.csv')\n",
    "\n",
    "# Step 3: Save the combined wage DataFrame as a CSV file\n",
    "combined_wage_df.to_csv(csv_path, index=True)\n",
    "print(f\"DataFrame saved as CSV at {csv_path}\")"
   ]
  }
 ],
 "metadata": {
  "kernelspec": {
   "display_name": "Python 3 (ipykernel)",
   "language": "python",
   "name": "python3"
  },
  "language_info": {
   "codemirror_mode": {
    "name": "ipython",
    "version": 3
   },
   "file_extension": ".py",
   "mimetype": "text/x-python",
   "name": "python",
   "nbconvert_exporter": "python",
   "pygments_lexer": "ipython3",
   "version": "3.10.14"
  }
 },
 "nbformat": 4,
 "nbformat_minor": 5
}
